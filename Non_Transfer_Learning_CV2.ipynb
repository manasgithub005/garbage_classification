{
  "nbformat": 4,
  "nbformat_minor": 0,
  "metadata": {
    "colab": {
      "name": "Non_Transfer_Learning-CV2.ipynb",
      "provenance": [],
      "collapsed_sections": []
    },
    "kernelspec": {
      "name": "python3",
      "display_name": "Python 3"
    },
    "language_info": {
      "name": "python"
    },
    "accelerator": "GPU",
    "gpuClass": "standard"
  },
  "cells": [
    {
      "cell_type": "code",
      "execution_count": 1,
      "metadata": {
        "id": "IclymOcacSFt"
      },
      "outputs": [],
      "source": [
        "# Import Libraries"
      ]
    },
    {
      "cell_type": "code",
      "source": [
        "import numpy as np\n",
        "import cv2\n",
        "from keras.callbacks import ModelCheckpoint,EarlyStopping\n",
        "from keras.layers import Conv2D, Flatten, MaxPooling2D,Dense,Dropout,SpatialDropout2D\n",
        "from keras.models  import Sequential\n",
        "from keras.preprocessing.image import ImageDataGenerator, img_to_array, load_img, array_to_img\n",
        "import random,os,glob\n",
        "import matplotlib.pyplot as plt"
      ],
      "metadata": {
        "id": "fbGZWl0lciwP"
      },
      "execution_count": 2,
      "outputs": []
    },
    {
      "cell_type": "code",
      "source": [
        "#Dataset Input"
      ],
      "metadata": {
        "id": "2HT78jzbci10"
      },
      "execution_count": 3,
      "outputs": []
    },
    {
      "cell_type": "code",
      "source": [
        "dir_path = '/content/drive/MyDrive/Krayen/Garbage Classification/garbage classification/Garbage classification'\n",
        "dir_path"
      ],
      "metadata": {
        "colab": {
          "base_uri": "https://localhost:8080/",
          "height": 53
        },
        "id": "hdOkaoTlci5S",
        "outputId": "766b362e-1f13-411a-e315-3054cd5cad72"
      },
      "execution_count": 3,
      "outputs": [
        {
          "output_type": "execute_result",
          "data": {
            "text/plain": [
              "'/content/drive/MyDrive/Krayen/Garbage Classification/garbage classification/Garbage classification'"
            ],
            "application/vnd.google.colaboratory.intrinsic+json": {
              "type": "string"
            }
          },
          "metadata": {},
          "execution_count": 3
        }
      ]
    },
    {
      "cell_type": "code",
      "source": [
        "img_list = glob.glob(os.path.join(dir_path, '*/*.jpg'))"
      ],
      "metadata": {
        "id": "F5lBlL9oci7M"
      },
      "execution_count": 4,
      "outputs": []
    },
    {
      "cell_type": "code",
      "source": [
        "len(img_list)"
      ],
      "metadata": {
        "colab": {
          "base_uri": "https://localhost:8080/"
        },
        "id": "bpbD7_Jjci-x",
        "outputId": "89c9be93-b76d-498c-bc2b-c8037f7dd6c8"
      },
      "execution_count": 5,
      "outputs": [
        {
          "output_type": "execute_result",
          "data": {
            "text/plain": [
              "2527"
            ]
          },
          "metadata": {},
          "execution_count": 5
        }
      ]
    },
    {
      "cell_type": "code",
      "source": [
        "#Image Augmentation"
      ],
      "metadata": {
        "id": "DzqydAIudSe5"
      },
      "execution_count": 6,
      "outputs": []
    },
    {
      "cell_type": "code",
      "source": [
        "train=ImageDataGenerator(horizontal_flip=True,\n",
        "                         vertical_flip=True,\n",
        "                         validation_split=0.1,\n",
        "                         rescale=1./255,\n",
        "                         shear_range = 0.1,\n",
        "                         zoom_range = 0.1,\n",
        "                         width_shift_range = 0.1,\n",
        "                         height_shift_range = 0.1,)\n",
        "\n",
        "test=ImageDataGenerator(rescale=1/255,\n",
        "                        validation_split=0.1)\n",
        "\n",
        "train_generator=train.flow_from_directory(dir_path,\n",
        "                                          target_size=(300,300),\n",
        "                                          batch_size=32,\n",
        "                                          class_mode='categorical',\n",
        "                                          subset='training')\n",
        "\n",
        "test_generator=test.flow_from_directory(dir_path,\n",
        "                                        target_size=(300,300),\n",
        "                                        batch_size=32,\n",
        "                                        class_mode='categorical',\n",
        "                                        subset='validation')\n",
        "\n",
        "labels = (train_generator.class_indices)\n",
        "print(labels)\n",
        "\n",
        "labels = dict((v,k) for k,v in labels.items())\n",
        "print(labels)"
      ],
      "metadata": {
        "colab": {
          "base_uri": "https://localhost:8080/"
        },
        "id": "RgDdCspGdYhT",
        "outputId": "98db07ea-cb73-47b2-eece-61499bdee233"
      },
      "execution_count": 7,
      "outputs": [
        {
          "output_type": "stream",
          "name": "stdout",
          "text": [
            "Found 2276 images belonging to 6 classes.\n",
            "Found 251 images belonging to 6 classes.\n",
            "{'cardboard': 0, 'glass': 1, 'metal': 2, 'paper': 3, 'plastic': 4, 'trash': 5}\n",
            "{0: 'cardboard', 1: 'glass', 2: 'metal', 3: 'paper', 4: 'plastic', 5: 'trash'}\n"
          ]
        }
      ]
    },
    {
      "cell_type": "code",
      "source": [
        "for image_batch, label_batch in train_generator:\n",
        "  break\n",
        "image_batch.shape, label_batch.shape"
      ],
      "metadata": {
        "colab": {
          "base_uri": "https://localhost:8080/"
        },
        "id": "vXkD_hwZdZbs",
        "outputId": "5ae7295d-a029-4851-e0ca-92cfbb04fc76"
      },
      "execution_count": 8,
      "outputs": [
        {
          "output_type": "execute_result",
          "data": {
            "text/plain": [
              "((32, 300, 300, 3), (32, 6))"
            ]
          },
          "metadata": {},
          "execution_count": 8
        }
      ]
    },
    {
      "cell_type": "code",
      "source": [
        "#Writing the labels file"
      ],
      "metadata": {
        "id": "LftzPh2idZd8"
      },
      "execution_count": 9,
      "outputs": []
    },
    {
      "cell_type": "code",
      "source": [
        "print (train_generator.class_indices)\n",
        "\n",
        "Labels = '\\n'.join(sorted(train_generator.class_indices.keys()))\n",
        "\n",
        "with open('labels.txt', 'w') as f:\n",
        "  f.write(Labels)"
      ],
      "metadata": {
        "colab": {
          "base_uri": "https://localhost:8080/"
        },
        "id": "tVOOr1PSdZf1",
        "outputId": "98f61e6b-9830-4aca-e27e-bf8ee5114b5b"
      },
      "execution_count": 10,
      "outputs": [
        {
          "output_type": "stream",
          "name": "stdout",
          "text": [
            "{'cardboard': 0, 'glass': 1, 'metal': 2, 'paper': 3, 'plastic': 4, 'trash': 5}\n"
          ]
        }
      ]
    },
    {
      "cell_type": "code",
      "source": [
        "#Building CNN & Saving keras model"
      ],
      "metadata": {
        "id": "0Nz-JAG8dZhp"
      },
      "execution_count": 11,
      "outputs": []
    },
    {
      "cell_type": "code",
      "source": [
        "model=Sequential()\n",
        "#Convolution blocks\n",
        "\n",
        "model.add(Conv2D(32,(3,3), padding='same',input_shape=(300,300,3),activation='relu'))\n",
        "model.add(MaxPooling2D(pool_size=2)) \n",
        "#model.add(SpatialDropout2D(0.5)) # No accuracy\n",
        "\n",
        "model.add(Conv2D(64,(3,3), padding='same',activation='relu'))\n",
        "model.add(MaxPooling2D(pool_size=2)) \n",
        "#model.add(SpatialDropout2D(0.5))\n",
        "\n",
        "model.add(Conv2D(32,(3,3), padding='same',activation='relu'))\n",
        "model.add(MaxPooling2D(pool_size=2)) \n",
        "\n",
        "#Classification layers\n",
        "model.add(Flatten())\n",
        "\n",
        "model.add(Dense(64,activation='relu'))\n",
        "#model.add(SpatialDropout2D(0.5))\n",
        "model.add(Dropout(0.2))\n",
        "model.add(Dense(32,activation='relu'))\n",
        "\n",
        "model.add(Dropout(0.2))\n",
        "model.add(Dense(6,activation='softmax'))\n",
        "\n",
        "filepath=\"trained_model.h5\"\n",
        "checkpoint1 = ModelCheckpoint(filepath, monitor='val_acc', verbose=1, save_best_only=True, mode='max')\n",
        "callbacks_list = [checkpoint1]"
      ],
      "metadata": {
        "id": "jso2GDl8dZlS"
      },
      "execution_count": 12,
      "outputs": []
    },
    {
      "cell_type": "code",
      "source": [
        "#Summarizing our model"
      ],
      "metadata": {
        "id": "T6Q0nVOmeCCe"
      },
      "execution_count": 13,
      "outputs": []
    },
    {
      "cell_type": "code",
      "source": [
        "model.summary()"
      ],
      "metadata": {
        "colab": {
          "base_uri": "https://localhost:8080/"
        },
        "id": "OYtjDrEWeDLf",
        "outputId": "feeca8bb-0dd5-4ba8-f5d1-adf71377bd9a"
      },
      "execution_count": 14,
      "outputs": [
        {
          "output_type": "stream",
          "name": "stdout",
          "text": [
            "Model: \"sequential\"\n",
            "_________________________________________________________________\n",
            " Layer (type)                Output Shape              Param #   \n",
            "=================================================================\n",
            " conv2d (Conv2D)             (None, 300, 300, 32)      896       \n",
            "                                                                 \n",
            " max_pooling2d (MaxPooling2D  (None, 150, 150, 32)     0         \n",
            " )                                                               \n",
            "                                                                 \n",
            " conv2d_1 (Conv2D)           (None, 150, 150, 64)      18496     \n",
            "                                                                 \n",
            " max_pooling2d_1 (MaxPooling  (None, 75, 75, 64)       0         \n",
            " 2D)                                                             \n",
            "                                                                 \n",
            " conv2d_2 (Conv2D)           (None, 75, 75, 32)        18464     \n",
            "                                                                 \n",
            " max_pooling2d_2 (MaxPooling  (None, 37, 37, 32)       0         \n",
            " 2D)                                                             \n",
            "                                                                 \n",
            " flatten (Flatten)           (None, 43808)             0         \n",
            "                                                                 \n",
            " dense (Dense)               (None, 64)                2803776   \n",
            "                                                                 \n",
            " dropout (Dropout)           (None, 64)                0         \n",
            "                                                                 \n",
            " dense_1 (Dense)             (None, 32)                2080      \n",
            "                                                                 \n",
            " dropout_1 (Dropout)         (None, 32)                0         \n",
            "                                                                 \n",
            " dense_2 (Dense)             (None, 6)                 198       \n",
            "                                                                 \n",
            "=================================================================\n",
            "Total params: 2,843,910\n",
            "Trainable params: 2,843,910\n",
            "Non-trainable params: 0\n",
            "_________________________________________________________________\n"
          ]
        }
      ]
    },
    {
      "cell_type": "code",
      "source": [
        "#Compiling Model using categorical cross entropy loss function & Adam Optimizer"
      ],
      "metadata": {
        "id": "gO2OLRQ4eFZ3"
      },
      "execution_count": 15,
      "outputs": []
    },
    {
      "cell_type": "code",
      "source": [
        "model.compile(loss='categorical_crossentropy',\n",
        "              optimizer='adam',\n",
        "              metrics=['acc']) # RMS PROP - No accuracy\n",
        "\n",
        "#es=EarlyStopping(monitor='val_loss', mode='min', verbose=1, patience=50)"
      ],
      "metadata": {
        "id": "lAeiD4pxeKCV"
      },
      "execution_count": 16,
      "outputs": []
    },
    {
      "cell_type": "code",
      "source": [
        "#Let's Train\n",
        "history = model.fit_generator(train_generator,\n",
        "                              epochs=100,\n",
        "                              steps_per_epoch=2276//32,\n",
        "                              validation_data=test_generator,\n",
        "                              validation_steps=251//32,\n",
        "                              workers = 4,\n",
        "                              callbacks=callbacks_list) \n",
        "#41 epoch - 75% #73- 76.9%\n",
        "#78 epoch - 80%"
      ],
      "metadata": {
        "colab": {
          "base_uri": "https://localhost:8080/"
        },
        "id": "uM8Rf-nYeUR2",
        "outputId": "d166cf8f-ad1a-4100-f836-4a41639600ad"
      },
      "execution_count": 18,
      "outputs": [
        {
          "output_type": "stream",
          "name": "stderr",
          "text": [
            "/usr/local/lib/python3.7/dist-packages/ipykernel_launcher.py:8: UserWarning: `Model.fit_generator` is deprecated and will be removed in a future version. Please use `Model.fit`, which supports generators.\n",
            "  \n"
          ]
        },
        {
          "output_type": "stream",
          "name": "stdout",
          "text": [
            "Epoch 1/100\n",
            "71/71 [==============================] - ETA: 0s - loss: 1.7682 - acc: 0.2304\n",
            "Epoch 1: val_acc improved from -inf to 0.25446, saving model to trained_model.h5\n",
            "71/71 [==============================] - 93s 1s/step - loss: 1.7682 - acc: 0.2304 - val_loss: 1.6310 - val_acc: 0.2545\n",
            "Epoch 2/100\n",
            "71/71 [==============================] - ETA: 0s - loss: 1.7030 - acc: 0.2353\n",
            "Epoch 2: val_acc did not improve from 0.25446\n",
            "71/71 [==============================] - 46s 625ms/step - loss: 1.7030 - acc: 0.2353 - val_loss: 1.6479 - val_acc: 0.2545\n",
            "Epoch 3/100\n",
            "71/71 [==============================] - ETA: 0s - loss: 1.5556 - acc: 0.3311\n",
            "Epoch 3: val_acc improved from 0.25446 to 0.42857, saving model to trained_model.h5\n",
            "71/71 [==============================] - 44s 600ms/step - loss: 1.5556 - acc: 0.3311 - val_loss: 1.4844 - val_acc: 0.4286\n",
            "Epoch 4/100\n",
            "71/71 [==============================] - ETA: 0s - loss: 1.4185 - acc: 0.4133\n",
            "Epoch 4: val_acc improved from 0.42857 to 0.46429, saving model to trained_model.h5\n",
            "71/71 [==============================] - 44s 601ms/step - loss: 1.4185 - acc: 0.4133 - val_loss: 1.3110 - val_acc: 0.4643\n",
            "Epoch 5/100\n",
            "71/71 [==============================] - ETA: 0s - loss: 1.3859 - acc: 0.4287\n",
            "Epoch 5: val_acc did not improve from 0.46429\n",
            "71/71 [==============================] - 44s 595ms/step - loss: 1.3859 - acc: 0.4287 - val_loss: 1.4011 - val_acc: 0.4509\n",
            "Epoch 6/100\n",
            "71/71 [==============================] - ETA: 0s - loss: 1.3708 - acc: 0.4412\n",
            "Epoch 6: val_acc improved from 0.46429 to 0.48661, saving model to trained_model.h5\n",
            "71/71 [==============================] - 44s 593ms/step - loss: 1.3708 - acc: 0.4412 - val_loss: 1.3055 - val_acc: 0.4866\n",
            "Epoch 7/100\n",
            "71/71 [==============================] - ETA: 0s - loss: 1.3269 - acc: 0.4483\n",
            "Epoch 7: val_acc improved from 0.48661 to 0.49554, saving model to trained_model.h5\n",
            "71/71 [==============================] - 46s 619ms/step - loss: 1.3269 - acc: 0.4483 - val_loss: 1.3022 - val_acc: 0.4955\n",
            "Epoch 8/100\n",
            "71/71 [==============================] - ETA: 0s - loss: 1.3197 - acc: 0.4746\n",
            "Epoch 8: val_acc improved from 0.49554 to 0.50000, saving model to trained_model.h5\n",
            "71/71 [==============================] - 44s 598ms/step - loss: 1.3197 - acc: 0.4746 - val_loss: 1.2475 - val_acc: 0.5000\n",
            "Epoch 9/100\n",
            "71/71 [==============================] - ETA: 0s - loss: 1.2946 - acc: 0.4831\n",
            "Epoch 9: val_acc did not improve from 0.50000\n",
            "71/71 [==============================] - 44s 592ms/step - loss: 1.2946 - acc: 0.4831 - val_loss: 1.2673 - val_acc: 0.4955\n",
            "Epoch 10/100\n",
            "71/71 [==============================] - ETA: 0s - loss: 1.2896 - acc: 0.4842\n",
            "Epoch 10: val_acc did not improve from 0.50000\n",
            "71/71 [==============================] - 44s 598ms/step - loss: 1.2896 - acc: 0.4842 - val_loss: 1.2697 - val_acc: 0.4821\n",
            "Epoch 11/100\n",
            "71/71 [==============================] - ETA: 0s - loss: 1.2537 - acc: 0.4991\n",
            "Epoch 11: val_acc did not improve from 0.50000\n",
            "71/71 [==============================] - 46s 617ms/step - loss: 1.2537 - acc: 0.4991 - val_loss: 1.2620 - val_acc: 0.4911\n",
            "Epoch 12/100\n",
            "71/71 [==============================] - ETA: 0s - loss: 1.2587 - acc: 0.5009\n",
            "Epoch 12: val_acc did not improve from 0.50000\n",
            "71/71 [==============================] - 44s 591ms/step - loss: 1.2587 - acc: 0.5009 - val_loss: 1.2267 - val_acc: 0.5000\n",
            "Epoch 13/100\n",
            "71/71 [==============================] - ETA: 0s - loss: 1.2387 - acc: 0.5045\n",
            "Epoch 13: val_acc improved from 0.50000 to 0.52679, saving model to trained_model.h5\n",
            "71/71 [==============================] - 44s 592ms/step - loss: 1.2387 - acc: 0.5045 - val_loss: 1.1459 - val_acc: 0.5268\n",
            "Epoch 14/100\n",
            "71/71 [==============================] - ETA: 0s - loss: 1.2244 - acc: 0.5147\n",
            "Epoch 14: val_acc improved from 0.52679 to 0.53125, saving model to trained_model.h5\n",
            "71/71 [==============================] - 43s 585ms/step - loss: 1.2244 - acc: 0.5147 - val_loss: 1.2163 - val_acc: 0.5312\n",
            "Epoch 15/100\n",
            "71/71 [==============================] - ETA: 0s - loss: 1.2241 - acc: 0.5165\n",
            "Epoch 15: val_acc improved from 0.53125 to 0.54464, saving model to trained_model.h5\n",
            "71/71 [==============================] - 45s 611ms/step - loss: 1.2241 - acc: 0.5165 - val_loss: 1.1410 - val_acc: 0.5446\n",
            "Epoch 16/100\n",
            "71/71 [==============================] - ETA: 0s - loss: 1.2502 - acc: 0.4996\n",
            "Epoch 16: val_acc did not improve from 0.54464\n",
            "71/71 [==============================] - 43s 582ms/step - loss: 1.2502 - acc: 0.4996 - val_loss: 1.2438 - val_acc: 0.4911\n",
            "Epoch 17/100\n",
            "71/71 [==============================] - ETA: 0s - loss: 1.1894 - acc: 0.5285\n",
            "Epoch 17: val_acc did not improve from 0.54464\n",
            "71/71 [==============================] - 43s 588ms/step - loss: 1.1894 - acc: 0.5285 - val_loss: 1.2223 - val_acc: 0.5045\n",
            "Epoch 18/100\n",
            "71/71 [==============================] - ETA: 0s - loss: 1.1766 - acc: 0.5486\n",
            "Epoch 18: val_acc did not improve from 0.54464\n",
            "71/71 [==============================] - 43s 583ms/step - loss: 1.1766 - acc: 0.5486 - val_loss: 1.3086 - val_acc: 0.4554\n",
            "Epoch 19/100\n",
            "71/71 [==============================] - ETA: 0s - loss: 1.1493 - acc: 0.5548\n",
            "Epoch 19: val_acc improved from 0.54464 to 0.57143, saving model to trained_model.h5\n",
            "71/71 [==============================] - 45s 612ms/step - loss: 1.1493 - acc: 0.5548 - val_loss: 1.1503 - val_acc: 0.5714\n",
            "Epoch 20/100\n",
            "71/71 [==============================] - ETA: 0s - loss: 1.1914 - acc: 0.5294\n",
            "Epoch 20: val_acc did not improve from 0.57143\n",
            "71/71 [==============================] - 44s 587ms/step - loss: 1.1914 - acc: 0.5294 - val_loss: 1.1491 - val_acc: 0.5357\n",
            "Epoch 21/100\n",
            "71/71 [==============================] - ETA: 0s - loss: 1.1430 - acc: 0.5548\n",
            "Epoch 21: val_acc did not improve from 0.57143\n",
            "71/71 [==============================] - 43s 585ms/step - loss: 1.1430 - acc: 0.5548 - val_loss: 1.1032 - val_acc: 0.5402\n",
            "Epoch 22/100\n",
            "71/71 [==============================] - ETA: 0s - loss: 1.1210 - acc: 0.5655\n",
            "Epoch 22: val_acc did not improve from 0.57143\n",
            "71/71 [==============================] - 44s 586ms/step - loss: 1.1210 - acc: 0.5655 - val_loss: 1.0785 - val_acc: 0.5714\n",
            "Epoch 23/100\n",
            "71/71 [==============================] - ETA: 0s - loss: 1.1108 - acc: 0.5753\n",
            "Epoch 23: val_acc improved from 0.57143 to 0.58929, saving model to trained_model.h5\n",
            "71/71 [==============================] - 46s 615ms/step - loss: 1.1108 - acc: 0.5753 - val_loss: 1.0807 - val_acc: 0.5893\n",
            "Epoch 24/100\n",
            "71/71 [==============================] - ETA: 0s - loss: 1.0852 - acc: 0.5940\n",
            "Epoch 24: val_acc improved from 0.58929 to 0.60714, saving model to trained_model.h5\n",
            "71/71 [==============================] - 43s 586ms/step - loss: 1.0852 - acc: 0.5940 - val_loss: 1.0496 - val_acc: 0.6071\n",
            "Epoch 25/100\n",
            "71/71 [==============================] - ETA: 0s - loss: 1.0670 - acc: 0.6083\n",
            "Epoch 25: val_acc did not improve from 0.60714\n",
            "71/71 [==============================] - 43s 583ms/step - loss: 1.0670 - acc: 0.6083 - val_loss: 1.0735 - val_acc: 0.5580\n",
            "Epoch 26/100\n",
            "71/71 [==============================] - ETA: 0s - loss: 1.0612 - acc: 0.6043\n",
            "Epoch 26: val_acc did not improve from 0.60714\n",
            "71/71 [==============================] - 43s 585ms/step - loss: 1.0612 - acc: 0.6043 - val_loss: 1.0667 - val_acc: 0.5848\n",
            "Epoch 27/100\n",
            "71/71 [==============================] - ETA: 0s - loss: 1.0238 - acc: 0.6136\n",
            "Epoch 27: val_acc did not improve from 0.60714\n",
            "71/71 [==============================] - 43s 579ms/step - loss: 1.0238 - acc: 0.6136 - val_loss: 1.1292 - val_acc: 0.5938\n",
            "Epoch 28/100\n",
            "71/71 [==============================] - ETA: 0s - loss: 0.9981 - acc: 0.6163\n",
            "Epoch 28: val_acc improved from 0.60714 to 0.62946, saving model to trained_model.h5\n",
            "71/71 [==============================] - 45s 608ms/step - loss: 0.9981 - acc: 0.6163 - val_loss: 0.9882 - val_acc: 0.6295\n",
            "Epoch 29/100\n",
            "71/71 [==============================] - ETA: 0s - loss: 1.0147 - acc: 0.6257\n",
            "Epoch 29: val_acc did not improve from 0.62946\n",
            "71/71 [==============================] - 44s 592ms/step - loss: 1.0147 - acc: 0.6257 - val_loss: 1.1713 - val_acc: 0.5848\n",
            "Epoch 30/100\n",
            "71/71 [==============================] - ETA: 0s - loss: 1.0451 - acc: 0.6141\n",
            "Epoch 30: val_acc did not improve from 0.62946\n",
            "71/71 [==============================] - 45s 606ms/step - loss: 1.0451 - acc: 0.6141 - val_loss: 0.9736 - val_acc: 0.6071\n",
            "Epoch 31/100\n",
            "71/71 [==============================] - ETA: 0s - loss: 0.9725 - acc: 0.6319\n",
            "Epoch 31: val_acc improved from 0.62946 to 0.64732, saving model to trained_model.h5\n",
            "71/71 [==============================] - 43s 580ms/step - loss: 0.9725 - acc: 0.6319 - val_loss: 1.0471 - val_acc: 0.6473\n",
            "Epoch 32/100\n",
            "70/71 [============================>.] - ETA: 0s - loss: 0.9389 - acc: 0.6500\n",
            "Epoch 32: val_acc did not improve from 0.64732\n",
            "71/71 [==============================] - 45s 607ms/step - loss: 0.9404 - acc: 0.6493 - val_loss: 1.0267 - val_acc: 0.6339\n",
            "Epoch 33/100\n",
            "71/71 [==============================] - ETA: 0s - loss: 0.9609 - acc: 0.6324\n",
            "Epoch 33: val_acc did not improve from 0.64732\n",
            "71/71 [==============================] - 43s 585ms/step - loss: 0.9609 - acc: 0.6324 - val_loss: 1.0517 - val_acc: 0.6027\n",
            "Epoch 34/100\n",
            "71/71 [==============================] - ETA: 0s - loss: 0.9250 - acc: 0.6591\n",
            "Epoch 34: val_acc improved from 0.64732 to 0.66518, saving model to trained_model.h5\n",
            "71/71 [==============================] - 43s 587ms/step - loss: 0.9250 - acc: 0.6591 - val_loss: 1.0041 - val_acc: 0.6652\n",
            "Epoch 35/100\n",
            "71/71 [==============================] - ETA: 0s - loss: 0.9330 - acc: 0.6511\n",
            "Epoch 35: val_acc did not improve from 0.66518\n",
            "71/71 [==============================] - 43s 586ms/step - loss: 0.9330 - acc: 0.6511 - val_loss: 1.0024 - val_acc: 0.6384\n",
            "Epoch 36/100\n",
            "71/71 [==============================] - ETA: 0s - loss: 0.9159 - acc: 0.6720\n",
            "Epoch 36: val_acc improved from 0.66518 to 0.66964, saving model to trained_model.h5\n",
            "71/71 [==============================] - 45s 613ms/step - loss: 0.9159 - acc: 0.6720 - val_loss: 0.9174 - val_acc: 0.6696\n",
            "Epoch 37/100\n",
            "71/71 [==============================] - ETA: 0s - loss: 0.9096 - acc: 0.6667\n",
            "Epoch 37: val_acc did not improve from 0.66964\n",
            "71/71 [==============================] - 43s 584ms/step - loss: 0.9096 - acc: 0.6667 - val_loss: 1.0039 - val_acc: 0.6562\n",
            "Epoch 38/100\n",
            "71/71 [==============================] - ETA: 0s - loss: 0.8715 - acc: 0.6791\n",
            "Epoch 38: val_acc did not improve from 0.66964\n",
            "71/71 [==============================] - 44s 586ms/step - loss: 0.8715 - acc: 0.6791 - val_loss: 0.9266 - val_acc: 0.6562\n",
            "Epoch 39/100\n",
            "71/71 [==============================] - ETA: 0s - loss: 0.8877 - acc: 0.6823\n",
            "Epoch 39: val_acc did not improve from 0.66964\n",
            "71/71 [==============================] - 44s 587ms/step - loss: 0.8877 - acc: 0.6823 - val_loss: 0.9029 - val_acc: 0.6562\n",
            "Epoch 40/100\n",
            "71/71 [==============================] - ETA: 0s - loss: 0.8980 - acc: 0.6734\n",
            "Epoch 40: val_acc did not improve from 0.66964\n",
            "71/71 [==============================] - 45s 608ms/step - loss: 0.8980 - acc: 0.6734 - val_loss: 1.0784 - val_acc: 0.6116\n",
            "Epoch 41/100\n",
            "71/71 [==============================] - ETA: 0s - loss: 0.8650 - acc: 0.6734\n",
            "Epoch 41: val_acc did not improve from 0.66964\n",
            "71/71 [==============================] - 43s 586ms/step - loss: 0.8650 - acc: 0.6734 - val_loss: 0.9166 - val_acc: 0.6429\n",
            "Epoch 42/100\n",
            "71/71 [==============================] - ETA: 0s - loss: 0.8354 - acc: 0.6845\n",
            "Epoch 42: val_acc improved from 0.66964 to 0.67857, saving model to trained_model.h5\n",
            "71/71 [==============================] - 43s 584ms/step - loss: 0.8354 - acc: 0.6845 - val_loss: 0.8720 - val_acc: 0.6786\n",
            "Epoch 43/100\n",
            "71/71 [==============================] - ETA: 0s - loss: 0.8354 - acc: 0.6983\n",
            "Epoch 43: val_acc did not improve from 0.67857\n",
            "71/71 [==============================] - 43s 585ms/step - loss: 0.8354 - acc: 0.6983 - val_loss: 0.9517 - val_acc: 0.6562\n",
            "Epoch 44/100\n",
            "71/71 [==============================] - ETA: 0s - loss: 0.8554 - acc: 0.6858\n",
            "Epoch 44: val_acc did not improve from 0.67857\n",
            "71/71 [==============================] - 45s 604ms/step - loss: 0.8554 - acc: 0.6858 - val_loss: 0.9194 - val_acc: 0.6518\n",
            "Epoch 45/100\n",
            "71/71 [==============================] - ETA: 0s - loss: 0.7576 - acc: 0.7197\n",
            "Epoch 45: val_acc improved from 0.67857 to 0.69643, saving model to trained_model.h5\n",
            "71/71 [==============================] - 43s 579ms/step - loss: 0.7576 - acc: 0.7197 - val_loss: 0.8892 - val_acc: 0.6964\n",
            "Epoch 46/100\n",
            "71/71 [==============================] - ETA: 0s - loss: 0.7584 - acc: 0.7188\n",
            "Epoch 46: val_acc did not improve from 0.69643\n",
            "71/71 [==============================] - 43s 576ms/step - loss: 0.7584 - acc: 0.7188 - val_loss: 0.8922 - val_acc: 0.6786\n",
            "Epoch 47/100\n",
            "71/71 [==============================] - ETA: 0s - loss: 0.8035 - acc: 0.7090\n",
            "Epoch 47: val_acc improved from 0.69643 to 0.70089, saving model to trained_model.h5\n",
            "71/71 [==============================] - 43s 581ms/step - loss: 0.8035 - acc: 0.7090 - val_loss: 0.8568 - val_acc: 0.7009\n",
            "Epoch 48/100\n",
            "71/71 [==============================] - ETA: 0s - loss: 0.7808 - acc: 0.7094\n",
            "Epoch 48: val_acc improved from 0.70089 to 0.71429, saving model to trained_model.h5\n",
            "71/71 [==============================] - 43s 578ms/step - loss: 0.7808 - acc: 0.7094 - val_loss: 0.8931 - val_acc: 0.7143\n",
            "Epoch 49/100\n",
            "71/71 [==============================] - ETA: 0s - loss: 0.7927 - acc: 0.7201\n",
            "Epoch 49: val_acc did not improve from 0.71429\n",
            "71/71 [==============================] - 45s 585ms/step - loss: 0.7927 - acc: 0.7201 - val_loss: 0.8841 - val_acc: 0.6964\n",
            "Epoch 50/100\n",
            "71/71 [==============================] - ETA: 0s - loss: 0.8114 - acc: 0.7197\n",
            "Epoch 50: val_acc did not improve from 0.71429\n",
            "71/71 [==============================] - 43s 583ms/step - loss: 0.8114 - acc: 0.7197 - val_loss: 0.8331 - val_acc: 0.6920\n",
            "Epoch 51/100\n",
            "71/71 [==============================] - ETA: 0s - loss: 0.7583 - acc: 0.7224\n",
            "Epoch 51: val_acc did not improve from 0.71429\n",
            "71/71 [==============================] - 43s 582ms/step - loss: 0.7583 - acc: 0.7224 - val_loss: 0.8393 - val_acc: 0.7009\n",
            "Epoch 52/100\n",
            "71/71 [==============================] - ETA: 0s - loss: 0.7432 - acc: 0.7291\n",
            "Epoch 52: val_acc did not improve from 0.71429\n",
            "71/71 [==============================] - 43s 610ms/step - loss: 0.7432 - acc: 0.7291 - val_loss: 0.8992 - val_acc: 0.6920\n",
            "Epoch 53/100\n",
            "71/71 [==============================] - ETA: 0s - loss: 0.7370 - acc: 0.7268\n",
            "Epoch 53: val_acc did not improve from 0.71429\n",
            "71/71 [==============================] - 45s 605ms/step - loss: 0.7370 - acc: 0.7268 - val_loss: 1.0958 - val_acc: 0.6562\n",
            "Epoch 54/100\n",
            "70/71 [============================>.] - ETA: 0s - loss: 0.7701 - acc: 0.7192\n",
            "Epoch 54: val_acc did not improve from 0.71429\n",
            "71/71 [==============================] - 43s 578ms/step - loss: 0.7698 - acc: 0.7193 - val_loss: 0.8938 - val_acc: 0.6473\n",
            "Epoch 55/100\n",
            "71/71 [==============================] - ETA: 0s - loss: 0.7580 - acc: 0.7326\n",
            "Epoch 55: val_acc improved from 0.71429 to 0.72768, saving model to trained_model.h5\n",
            "71/71 [==============================] - 43s 582ms/step - loss: 0.7580 - acc: 0.7326 - val_loss: 0.8135 - val_acc: 0.7277\n",
            "Epoch 56/100\n",
            "71/71 [==============================] - ETA: 0s - loss: 0.7619 - acc: 0.7242\n",
            "Epoch 56: val_acc did not improve from 0.72768\n",
            "71/71 [==============================] - 44s 588ms/step - loss: 0.7619 - acc: 0.7242 - val_loss: 0.8247 - val_acc: 0.7232\n",
            "Epoch 57/100\n",
            "71/71 [==============================] - ETA: 0s - loss: 0.7451 - acc: 0.7420\n",
            "Epoch 57: val_acc did not improve from 0.72768\n",
            "71/71 [==============================] - 45s 607ms/step - loss: 0.7451 - acc: 0.7420 - val_loss: 0.8351 - val_acc: 0.6964\n",
            "Epoch 58/100\n",
            "71/71 [==============================] - ETA: 0s - loss: 0.7450 - acc: 0.7219\n",
            "Epoch 58: val_acc did not improve from 0.72768\n",
            "71/71 [==============================] - 44s 597ms/step - loss: 0.7450 - acc: 0.7219 - val_loss: 0.8504 - val_acc: 0.7054\n",
            "Epoch 59/100\n",
            "71/71 [==============================] - ETA: 0s - loss: 0.7032 - acc: 0.7504\n",
            "Epoch 59: val_acc did not improve from 0.72768\n",
            "71/71 [==============================] - 44s 590ms/step - loss: 0.7032 - acc: 0.7504 - val_loss: 0.8369 - val_acc: 0.6830\n",
            "Epoch 60/100\n",
            "71/71 [==============================] - ETA: 0s - loss: 0.6904 - acc: 0.7478\n",
            "Epoch 60: val_acc improved from 0.72768 to 0.73661, saving model to trained_model.h5\n",
            "71/71 [==============================] - 44s 591ms/step - loss: 0.6904 - acc: 0.7478 - val_loss: 0.7375 - val_acc: 0.7366\n",
            "Epoch 61/100\n",
            "71/71 [==============================] - ETA: 0s - loss: 0.6841 - acc: 0.7527\n",
            "Epoch 61: val_acc did not improve from 0.73661\n",
            "71/71 [==============================] - 45s 611ms/step - loss: 0.6841 - acc: 0.7527 - val_loss: 0.8517 - val_acc: 0.6964\n",
            "Epoch 62/100\n",
            "71/71 [==============================] - ETA: 0s - loss: 0.7255 - acc: 0.7353\n",
            "Epoch 62: val_acc did not improve from 0.73661\n",
            "71/71 [==============================] - 43s 584ms/step - loss: 0.7255 - acc: 0.7353 - val_loss: 0.7923 - val_acc: 0.7009\n",
            "Epoch 63/100\n",
            "71/71 [==============================] - ETA: 0s - loss: 0.6697 - acc: 0.7460\n",
            "Epoch 63: val_acc did not improve from 0.73661\n",
            "71/71 [==============================] - 44s 587ms/step - loss: 0.6697 - acc: 0.7460 - val_loss: 0.8400 - val_acc: 0.6964\n",
            "Epoch 64/100\n",
            "71/71 [==============================] - ETA: 0s - loss: 0.6932 - acc: 0.7580\n",
            "Epoch 64: val_acc did not improve from 0.73661\n",
            "71/71 [==============================] - 43s 584ms/step - loss: 0.6932 - acc: 0.7580 - val_loss: 0.8910 - val_acc: 0.6875\n",
            "Epoch 65/100\n",
            "71/71 [==============================] - ETA: 0s - loss: 0.6590 - acc: 0.7701\n",
            "Epoch 65: val_acc did not improve from 0.73661\n",
            "71/71 [==============================] - 45s 613ms/step - loss: 0.6590 - acc: 0.7701 - val_loss: 0.8060 - val_acc: 0.6964\n",
            "Epoch 66/100\n",
            "71/71 [==============================] - ETA: 0s - loss: 0.6592 - acc: 0.7607\n",
            "Epoch 66: val_acc did not improve from 0.73661\n",
            "71/71 [==============================] - 43s 586ms/step - loss: 0.6592 - acc: 0.7607 - val_loss: 0.7567 - val_acc: 0.7366\n",
            "Epoch 67/100\n",
            "71/71 [==============================] - ETA: 0s - loss: 0.6866 - acc: 0.7598\n",
            "Epoch 67: val_acc did not improve from 0.73661\n",
            "71/71 [==============================] - 44s 587ms/step - loss: 0.6866 - acc: 0.7598 - val_loss: 0.8540 - val_acc: 0.7009\n",
            "Epoch 68/100\n",
            "71/71 [==============================] - ETA: 0s - loss: 0.6752 - acc: 0.7504\n",
            "Epoch 68: val_acc did not improve from 0.73661\n",
            "71/71 [==============================] - 44s 588ms/step - loss: 0.6752 - acc: 0.7504 - val_loss: 0.8687 - val_acc: 0.6875\n",
            "Epoch 69/100\n",
            "71/71 [==============================] - ETA: 0s - loss: 0.6365 - acc: 0.7785\n",
            "Epoch 69: val_acc did not improve from 0.73661\n",
            "71/71 [==============================] - 45s 610ms/step - loss: 0.6365 - acc: 0.7785 - val_loss: 0.8176 - val_acc: 0.7143\n",
            "Epoch 70/100\n",
            "71/71 [==============================] - ETA: 0s - loss: 0.6112 - acc: 0.7692\n",
            "Epoch 70: val_acc did not improve from 0.73661\n",
            "71/71 [==============================] - 44s 588ms/step - loss: 0.6112 - acc: 0.7692 - val_loss: 0.8038 - val_acc: 0.7188\n",
            "Epoch 71/100\n",
            "71/71 [==============================] - ETA: 0s - loss: 0.6595 - acc: 0.7750\n",
            "Epoch 71: val_acc did not improve from 0.73661\n",
            "71/71 [==============================] - 44s 587ms/step - loss: 0.6595 - acc: 0.7750 - val_loss: 0.8173 - val_acc: 0.6920\n",
            "Epoch 72/100\n",
            "71/71 [==============================] - ETA: 0s - loss: 0.6723 - acc: 0.7567\n",
            "Epoch 72: val_acc did not improve from 0.73661\n",
            "71/71 [==============================] - 44s 590ms/step - loss: 0.6723 - acc: 0.7567 - val_loss: 0.8240 - val_acc: 0.7098\n",
            "Epoch 73/100\n",
            "71/71 [==============================] - ETA: 0s - loss: 0.6919 - acc: 0.7518\n",
            "Epoch 73: val_acc did not improve from 0.73661\n",
            "71/71 [==============================] - 45s 611ms/step - loss: 0.6919 - acc: 0.7518 - val_loss: 0.8556 - val_acc: 0.6518\n",
            "Epoch 74/100\n",
            "71/71 [==============================] - ETA: 0s - loss: 0.6138 - acc: 0.7825\n",
            "Epoch 74: val_acc did not improve from 0.73661\n",
            "71/71 [==============================] - 44s 590ms/step - loss: 0.6138 - acc: 0.7825 - val_loss: 0.9100 - val_acc: 0.6652\n",
            "Epoch 75/100\n",
            "71/71 [==============================] - ETA: 0s - loss: 0.6313 - acc: 0.7816\n",
            "Epoch 75: val_acc did not improve from 0.73661\n",
            "71/71 [==============================] - 43s 589ms/step - loss: 0.6313 - acc: 0.7816 - val_loss: 0.6489 - val_acc: 0.7366\n",
            "Epoch 76/100\n",
            "71/71 [==============================] - ETA: 0s - loss: 0.6287 - acc: 0.7732\n",
            "Epoch 76: val_acc did not improve from 0.73661\n",
            "71/71 [==============================] - 43s 579ms/step - loss: 0.6287 - acc: 0.7732 - val_loss: 0.7862 - val_acc: 0.7098\n",
            "Epoch 77/100\n",
            "71/71 [==============================] - ETA: 0s - loss: 0.6510 - acc: 0.7683\n",
            "Epoch 77: val_acc did not improve from 0.73661\n",
            "71/71 [==============================] - 45s 607ms/step - loss: 0.6510 - acc: 0.7683 - val_loss: 0.8228 - val_acc: 0.7009\n",
            "Epoch 78/100\n",
            "71/71 [==============================] - ETA: 0s - loss: 0.6424 - acc: 0.7705\n",
            "Epoch 78: val_acc improved from 0.73661 to 0.75000, saving model to trained_model.h5\n",
            "71/71 [==============================] - 43s 585ms/step - loss: 0.6424 - acc: 0.7705 - val_loss: 0.7038 - val_acc: 0.7500\n",
            "Epoch 79/100\n",
            "71/71 [==============================] - ETA: 0s - loss: 0.6429 - acc: 0.7714\n",
            "Epoch 79: val_acc did not improve from 0.75000\n",
            "71/71 [==============================] - 44s 591ms/step - loss: 0.6429 - acc: 0.7714 - val_loss: 0.9246 - val_acc: 0.7098\n",
            "Epoch 80/100\n",
            "71/71 [==============================] - ETA: 0s - loss: 0.5903 - acc: 0.7919\n",
            "Epoch 80: val_acc did not improve from 0.75000\n",
            "71/71 [==============================] - 43s 586ms/step - loss: 0.5903 - acc: 0.7919 - val_loss: 0.9029 - val_acc: 0.7277\n",
            "Epoch 81/100\n",
            "71/71 [==============================] - ETA: 0s - loss: 0.5821 - acc: 0.7901\n",
            "Epoch 81: val_acc did not improve from 0.75000\n",
            "71/71 [==============================] - 45s 609ms/step - loss: 0.5821 - acc: 0.7901 - val_loss: 0.8633 - val_acc: 0.7232\n",
            "Epoch 82/100\n",
            "71/71 [==============================] - ETA: 0s - loss: 0.6100 - acc: 0.7906\n",
            "Epoch 82: val_acc did not improve from 0.75000\n",
            "71/71 [==============================] - 44s 586ms/step - loss: 0.6100 - acc: 0.7906 - val_loss: 0.8399 - val_acc: 0.7232\n",
            "Epoch 83/100\n",
            "71/71 [==============================] - ETA: 0s - loss: 0.6375 - acc: 0.7714\n",
            "Epoch 83: val_acc did not improve from 0.75000\n",
            "71/71 [==============================] - 43s 585ms/step - loss: 0.6375 - acc: 0.7714 - val_loss: 0.8750 - val_acc: 0.7321\n",
            "Epoch 84/100\n",
            "71/71 [==============================] - ETA: 0s - loss: 0.5580 - acc: 0.8012\n",
            "Epoch 84: val_acc did not improve from 0.75000\n",
            "71/71 [==============================] - 43s 578ms/step - loss: 0.5580 - acc: 0.8012 - val_loss: 0.7830 - val_acc: 0.7232\n",
            "Epoch 85/100\n",
            "71/71 [==============================] - ETA: 0s - loss: 0.5658 - acc: 0.8012\n",
            "Epoch 85: val_acc did not improve from 0.75000\n",
            "71/71 [==============================] - 43s 581ms/step - loss: 0.5658 - acc: 0.8012 - val_loss: 0.8332 - val_acc: 0.6920\n",
            "Epoch 86/100\n",
            "71/71 [==============================] - ETA: 0s - loss: 0.6924 - acc: 0.7620\n",
            "Epoch 86: val_acc did not improve from 0.75000\n",
            "71/71 [==============================] - 45s 603ms/step - loss: 0.6924 - acc: 0.7620 - val_loss: 0.7433 - val_acc: 0.6920\n",
            "Epoch 87/100\n",
            "71/71 [==============================] - ETA: 0s - loss: 0.6237 - acc: 0.7754\n",
            "Epoch 87: val_acc did not improve from 0.75000\n",
            "71/71 [==============================] - 43s 581ms/step - loss: 0.6237 - acc: 0.7754 - val_loss: 0.8110 - val_acc: 0.6830\n",
            "Epoch 88/100\n",
            "71/71 [==============================] - ETA: 0s - loss: 0.5976 - acc: 0.7906\n",
            "Epoch 88: val_acc did not improve from 0.75000\n",
            "71/71 [==============================] - 43s 584ms/step - loss: 0.5976 - acc: 0.7906 - val_loss: 0.9081 - val_acc: 0.7321\n",
            "Epoch 89/100\n",
            "71/71 [==============================] - ETA: 0s - loss: 0.6279 - acc: 0.7772\n",
            "Epoch 89: val_acc did not improve from 0.75000\n",
            "71/71 [==============================] - 44s 587ms/step - loss: 0.6279 - acc: 0.7772 - val_loss: 0.7492 - val_acc: 0.7054\n",
            "Epoch 90/100\n",
            "71/71 [==============================] - ETA: 0s - loss: 0.5475 - acc: 0.8111\n",
            "Epoch 90: val_acc did not improve from 0.75000\n",
            "71/71 [==============================] - 45s 615ms/step - loss: 0.5475 - acc: 0.8111 - val_loss: 0.7961 - val_acc: 0.7143\n",
            "Epoch 91/100\n",
            "71/71 [==============================] - ETA: 0s - loss: 0.5972 - acc: 0.7932\n",
            "Epoch 91: val_acc did not improve from 0.75000\n",
            "71/71 [==============================] - 44s 599ms/step - loss: 0.5972 - acc: 0.7932 - val_loss: 0.7464 - val_acc: 0.7366\n",
            "Epoch 92/100\n",
            "71/71 [==============================] - ETA: 0s - loss: 0.5464 - acc: 0.8102\n",
            "Epoch 92: val_acc did not improve from 0.75000\n",
            "71/71 [==============================] - 43s 582ms/step - loss: 0.5464 - acc: 0.8102 - val_loss: 0.7666 - val_acc: 0.7188\n",
            "Epoch 93/100\n",
            "71/71 [==============================] - ETA: 0s - loss: 0.6043 - acc: 0.7816\n",
            "Epoch 93: val_acc did not improve from 0.75000\n",
            "71/71 [==============================] - 43s 583ms/step - loss: 0.6043 - acc: 0.7816 - val_loss: 0.8389 - val_acc: 0.7009\n",
            "Epoch 94/100\n",
            "71/71 [==============================] - ETA: 0s - loss: 0.5456 - acc: 0.8012\n",
            "Epoch 94: val_acc did not improve from 0.75000\n",
            "71/71 [==============================] - 44s 603ms/step - loss: 0.5456 - acc: 0.8012 - val_loss: 0.7863 - val_acc: 0.7411\n",
            "Epoch 95/100\n",
            "71/71 [==============================] - ETA: 0s - loss: 0.5616 - acc: 0.8088\n",
            "Epoch 95: val_acc did not improve from 0.75000\n",
            "71/71 [==============================] - 43s 579ms/step - loss: 0.5616 - acc: 0.8088 - val_loss: 0.8010 - val_acc: 0.7455\n",
            "Epoch 96/100\n",
            "71/71 [==============================] - ETA: 0s - loss: 0.5285 - acc: 0.8146\n",
            "Epoch 96: val_acc did not improve from 0.75000\n",
            "71/71 [==============================] - 43s 581ms/step - loss: 0.5285 - acc: 0.8146 - val_loss: 0.8686 - val_acc: 0.7455\n",
            "Epoch 97/100\n",
            "71/71 [==============================] - ETA: 0s - loss: 0.5457 - acc: 0.7977\n",
            "Epoch 97: val_acc did not improve from 0.75000\n",
            "71/71 [==============================] - 43s 582ms/step - loss: 0.5457 - acc: 0.7977 - val_loss: 0.7730 - val_acc: 0.7366\n",
            "Epoch 98/100\n",
            "71/71 [==============================] - ETA: 0s - loss: 0.5594 - acc: 0.7990\n",
            "Epoch 98: val_acc did not improve from 0.75000\n",
            "71/71 [==============================] - 45s 609ms/step - loss: 0.5594 - acc: 0.7990 - val_loss: 0.7571 - val_acc: 0.7411\n",
            "Epoch 99/100\n",
            "71/71 [==============================] - ETA: 0s - loss: 0.5338 - acc: 0.8133\n",
            "Epoch 99: val_acc did not improve from 0.75000\n",
            "71/71 [==============================] - 44s 590ms/step - loss: 0.5338 - acc: 0.8133 - val_loss: 0.8988 - val_acc: 0.7054\n",
            "Epoch 100/100\n",
            "71/71 [==============================] - ETA: 0s - loss: 0.5411 - acc: 0.8021\n",
            "Epoch 100: val_acc did not improve from 0.75000\n",
            "71/71 [==============================] - 43s 585ms/step - loss: 0.5411 - acc: 0.8021 - val_loss: 0.6991 - val_acc: 0.7500\n"
          ]
        }
      ]
    },
    {
      "cell_type": "code",
      "source": [
        "#Testing PREDICTION"
      ],
      "metadata": {
        "id": "8JO96W9reUcn"
      },
      "execution_count": null,
      "outputs": []
    },
    {
      "cell_type": "code",
      "source": [
        "from keras.preprocessing import image\n",
        "\n",
        "img_path = '/content/drive/MyDrive/Krayen/Garbage Classification/garbage classification/Garbage classification/plastic/plastic191.jpg'\n",
        "\n",
        "img = image.load_img(img_path, target_size=(300, 300))\n",
        "img = image.img_to_array(img, dtype=np.uint8)\n",
        "img=np.array(img)/255.0\n",
        "\n",
        "plt.title(\"Loaded Image\")\n",
        "plt.axis('off')\n",
        "plt.imshow(img.squeeze())\n",
        "\n",
        "p=model.predict(img[np.newaxis, ...])\n",
        "\n",
        "#print(\"Predicted shape\",p.shape)\n",
        "print(\"Maximum Probability: \",np.max(p[0], axis=-1))\n",
        "predicted_class = labels[np.argmax(p[0], axis=-1)]\n",
        "print(\"Classified:\",predicted_class)"
      ],
      "metadata": {
        "colab": {
          "base_uri": "https://localhost:8080/",
          "height": 299
        },
        "id": "w2cUQqSeeUeZ",
        "outputId": "c464cf5e-cec8-4793-c499-a8ae51c7d315"
      },
      "execution_count": 22,
      "outputs": [
        {
          "output_type": "stream",
          "name": "stdout",
          "text": [
            "Maximum Probability:  0.9624645\n",
            "Classified: plastic\n"
          ]
        },
        {
          "output_type": "display_data",
          "data": {
            "text/plain": [
              "<Figure size 432x288 with 1 Axes>"
            ],
            "image/png": "[encoded data removed]"
          },
          "metadata": {
            "needs_background": "light"
          }
        }
      ]
    },
    {
      "cell_type": "code",
      "source": [
        "classes=[]\n",
        "prob=[]\n",
        "print(\"\\n-------------------Individual Probability--------------------------------\\n\")\n",
        "\n",
        "for i,j in enumerate (p[0],0):\n",
        "    print(labels[i].upper(),':',round(j*100,2),'%')\n",
        "    classes.append(labels[i])\n",
        "    prob.append(round(j*100,2))\n",
        "    \n",
        "def plot_bar_x():\n",
        "    # this is for plotting purpose\n",
        "    index = np.arange(len(classes))\n",
        "    plt.bar(index, prob)\n",
        "    plt.xlabel('Labels', fontsize=12)\n",
        "    plt.ylabel('Probability', fontsize=12)\n",
        "    plt.xticks(index, classes, fontsize=12, rotation=20)\n",
        "    plt.title('Probability for loaded image')\n",
        "    plt.show()\n",
        "plot_bar_x()"
      ],
      "metadata": {
        "colab": {
          "base_uri": "https://localhost:8080/",
          "height": 477
        },
        "id": "eWXX7t8QeUhz",
        "outputId": "e914cf4e-fd7d-478f-9fbd-6eee9cdd15c2"
      },
      "execution_count": 23,
      "outputs": [
        {
          "output_type": "stream",
          "name": "stdout",
          "text": [
            "\n",
            "-------------------Individual Probability--------------------------------\n",
            "\n",
            "CARDBOARD : 0.27 %\n",
            "GLASS : 1.21 %\n",
            "METAL : 1.32 %\n",
            "PAPER : 0.95 %\n",
            "PLASTIC : 96.25 %\n",
            "TRASH : 0.01 %\n"
          ]
        },
        {
          "output_type": "display_data",
          "data": {
            "text/plain": [
              "<Figure size 432x288 with 1 Axes>"
            ],
            "image/png": "[encoded data removed]"
          },
          "metadata": {
            "needs_background": "light"
          }
        }
      ]
    },
    {
      "cell_type": "code",
      "source": [
        "#Accuracy Graph"
      ],
      "metadata": {
        "id": "vfCWrZQjtu78"
      },
      "execution_count": 24,
      "outputs": []
    },
    {
      "cell_type": "code",
      "source": [
        "acc = history.history['acc']\n",
        "val_acc = history.history['val_acc']\n",
        "\n",
        "loss = history.history['loss']\n",
        "val_loss = history.history['val_loss']\n",
        "\n",
        "# ________________ Graph 1 -------------------------\n",
        "\n",
        "plt.figure(figsize=(8, 8))\n",
        "plt.subplot(2, 1, 1)\n",
        "plt.plot(acc, label='Training Accuracy')\n",
        "plt.plot(val_acc, label='Validation Accuracy')\n",
        "plt.legend(loc='lower right')\n",
        "plt.ylabel('Accuracy')\n",
        "plt.ylim([min(plt.ylim()),1])\n",
        "plt.title('Training and Validation Accuracy')\n",
        "\n",
        "# ________________ Graph 2 -------------------------\n",
        "\n",
        "plt.subplot(2, 1, 2)\n",
        "plt.plot(loss, label='Training Loss')\n",
        "plt.plot(val_loss, label='Validation Loss')\n",
        "plt.legend(loc='upper right')\n",
        "plt.ylabel('Cross Entropy')\n",
        "plt.ylim([0,max(plt.ylim())])\n",
        "plt.title('Training and Validation Loss')\n",
        "plt.show()"
      ],
      "metadata": {
        "colab": {
          "base_uri": "https://localhost:8080/",
          "height": 499
        },
        "id": "eNFJyaLStu-3",
        "outputId": "f101a754-0b84-4a21-aeeb-149eaededf6a"
      },
      "execution_count": 25,
      "outputs": [
        {
          "output_type": "display_data",
          "data": {
            "text/plain": [
              "<Figure size 576x576 with 2 Axes>"
            ],
            "image/png": "[encoded data removed]"
          },
          "metadata": {
            "needs_background": "light"
          }
        }
      ]
    },
    {
      "cell_type": "code",
      "source": [
        "#=================================================================================================================="
      ],
      "metadata": {
        "id": "xCAn5bMhtvBJ"
      },
      "execution_count": null,
      "outputs": []
    },
    {
      "cell_type": "code",
      "source": [
        ""
      ],
      "metadata": {
        "id": "_OGWS6f4zqIj"
      },
      "execution_count": null,
      "outputs": []
    },
    {
      "cell_type": "code",
      "source": [
        ""
      ],
      "metadata": {
        "id": "-MV0RaowzqKa"
      },
      "execution_count": null,
      "outputs": []
    },
    {
      "cell_type": "code",
      "source": [
        ""
      ],
      "metadata": {
        "id": "2LvtasJNzqNx"
      },
      "execution_count": null,
      "outputs": []
    }
  ]
}